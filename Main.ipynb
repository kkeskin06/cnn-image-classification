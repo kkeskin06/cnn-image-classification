{
 "cells": [
  {
   "cell_type": "markdown",
   "id": "2140d344",
   "metadata": {},
   "source": [
    "ilk olarak kütüphanelerimizi ekliyoruz."
   ]
  },
  {
   "cell_type": "code",
   "execution_count": 1,
   "id": "878bdd57",
   "metadata": {},
   "outputs": [],
   "source": [
    "import tensorflow as tf\n",
    "from keras.preprocessing.image import ImageDataGenerator"
   ]
  },
  {
   "cell_type": "markdown",
   "id": "87833dc9",
   "metadata": {},
   "source": [
    "tensorflow versiyonu kontrol ettim."
   ]
  },
  {
   "cell_type": "code",
   "execution_count": 2,
   "id": "95f98d4c",
   "metadata": {
    "scrolled": true
   },
   "outputs": [
    {
     "data": {
      "text/plain": [
       "'2.3.0'"
      ]
     },
     "execution_count": 2,
     "metadata": {},
     "output_type": "execute_result"
    }
   ],
   "source": [
    "tf.__version__"
   ]
  },
  {
   "cell_type": "markdown",
   "id": "70b9806c",
   "metadata": {},
   "source": [
    "training setimdeki görüntüleri 64*64 boyutuna indirdim"
   ]
  },
  {
   "cell_type": "code",
   "execution_count": 3,
   "id": "7cfae7d3",
   "metadata": {},
   "outputs": [
    {
     "name": "stdout",
     "output_type": "stream",
     "text": [
      "Found 8000 images belonging to 2 classes.\n"
     ]
    }
   ],
   "source": [
    "train_datagen = ImageDataGenerator(rescale = 1./255,\n",
    "                                   shear_range = 0.2,\n",
    "                                   zoom_range = 0.2,\n",
    "                                   horizontal_flip = True)\n",
    "training_set = train_datagen.flow_from_directory('C:/Users/tepec/Desktop/proje/dataset/training_set',\n",
    "                                                 target_size = (64, 64),\n",
    "                                                 batch_size = 32,\n",
    "                                                 class_mode = 'binary')"
   ]
  },
  {
   "cell_type": "markdown",
   "id": "06a78dd3",
   "metadata": {},
   "source": [
    "test setimdeki görüntüleri 64*64 boyutuna indirdim"
   ]
  },
  {
   "cell_type": "code",
   "execution_count": 4,
   "id": "16316aee",
   "metadata": {},
   "outputs": [
    {
     "name": "stdout",
     "output_type": "stream",
     "text": [
      "Found 2000 images belonging to 2 classes.\n"
     ]
    }
   ],
   "source": [
    "test_datagen = ImageDataGenerator(rescale = 1./255)\n",
    "test_set = test_datagen.flow_from_directory('C:/Users/tepec/Desktop/proje/dataset/test_set',\n",
    "                                            target_size = (64, 64),\n",
    "                                            batch_size = 32,\n",
    "                                            class_mode = 'binary')"
   ]
  },
  {
   "cell_type": "markdown",
   "id": "1f144000",
   "metadata": {},
   "source": [
    "cnn algoritmasının sequential modelini tanımlıyorum."
   ]
  },
  {
   "cell_type": "code",
   "execution_count": 5,
   "id": "a3d739ad",
   "metadata": {},
   "outputs": [],
   "source": [
    "cnn = tf.keras.models.Sequential()"
   ]
  },
  {
   "cell_type": "markdown",
   "id": "00e43090",
   "metadata": {},
   "source": [
    "ilk konvolüsyon katmanını ekledim"
   ]
  },
  {
   "cell_type": "code",
   "execution_count": 6,
   "id": "868fae25",
   "metadata": {},
   "outputs": [],
   "source": [
    "cnn.add(tf.keras.layers.Conv2D(filters=32, kernel_size=3, activation='relu', input_shape=[64, 64, 3]))"
   ]
  },
  {
   "cell_type": "markdown",
   "id": "8ca6226c",
   "metadata": {},
   "source": [
    "ilk pooling katmanı"
   ]
  },
  {
   "cell_type": "code",
   "execution_count": 7,
   "id": "f41cf801",
   "metadata": {},
   "outputs": [],
   "source": [
    "cnn.add(tf.keras.layers.MaxPool2D(pool_size=2, strides=2))"
   ]
  },
  {
   "cell_type": "markdown",
   "id": "182470a1",
   "metadata": {},
   "source": [
    "ikinci konvolüsyon ve pooling katmanı"
   ]
  },
  {
   "cell_type": "code",
   "execution_count": 8,
   "id": "46b84a7a",
   "metadata": {},
   "outputs": [],
   "source": [
    "cnn.add(tf.keras.layers.Conv2D(filters=32, kernel_size=3, activation='relu'))\n",
    "cnn.add(tf.keras.layers.MaxPool2D(pool_size=2, strides=2))"
   ]
  },
  {
   "cell_type": "markdown",
   "id": "74f74779",
   "metadata": {},
   "source": [
    "flatten katmanı ile veriler öğrenmeye hazır hale getiriliyor"
   ]
  },
  {
   "cell_type": "code",
   "execution_count": 9,
   "id": "efec79db",
   "metadata": {},
   "outputs": [],
   "source": [
    "cnn.add(tf.keras.layers.Flatten())"
   ]
  },
  {
   "cell_type": "markdown",
   "id": "dec8ac32",
   "metadata": {},
   "source": [
    "Full Connection katmanı oluşturuluyor görüntüler 64*64 oldugu için units 128"
   ]
  },
  {
   "cell_type": "code",
   "execution_count": 10,
   "id": "6148aee8",
   "metadata": {},
   "outputs": [],
   "source": [
    "cnn.add(tf.keras.layers.Dense(units=128, activation='relu'))"
   ]
  },
  {
   "cell_type": "markdown",
   "id": "8d670f70",
   "metadata": {},
   "source": [
    "çıkış katmanı çıktı 1 ise köpek 0 ise kedi"
   ]
  },
  {
   "cell_type": "code",
   "execution_count": 11,
   "id": "f06b5683",
   "metadata": {},
   "outputs": [],
   "source": [
    "cnn.add(tf.keras.layers.Dense(units=1, activation='sigmoid'))"
   ]
  },
  {
   "cell_type": "markdown",
   "id": "eaf1fd23",
   "metadata": {},
   "source": [
    "derleme işlemi yapılıyor fonksiyon olarak adam ve metrik olarak accuracy seçiliyor."
   ]
  },
  {
   "cell_type": "code",
   "execution_count": 12,
   "id": "86df9164",
   "metadata": {},
   "outputs": [],
   "source": [
    "cnn.compile(optimizer = 'adam', loss = 'binary_crossentropy', metrics = ['accuracy'])"
   ]
  },
  {
   "cell_type": "markdown",
   "id": "77072b4c",
   "metadata": {},
   "source": [
    "cnn.fit ile modelimizin eğitimi başlamış oluyor."
   ]
  },
  {
   "cell_type": "code",
   "execution_count": 13,
   "id": "50776f88",
   "metadata": {},
   "outputs": [
    {
     "name": "stdout",
     "output_type": "stream",
     "text": [
      "Epoch 1/6\n",
      "250/250 [==============================] - 53s 211ms/step - loss: 0.6770 - accuracy: 0.5806 - val_loss: 0.6216 - val_accuracy: 0.6485\n",
      "Epoch 2/6\n",
      "250/250 [==============================] - 47s 189ms/step - loss: 0.6146 - accuracy: 0.6616 - val_loss: 0.5708 - val_accuracy: 0.7125\n",
      "Epoch 3/6\n",
      "250/250 [==============================] - 47s 186ms/step - loss: 0.5663 - accuracy: 0.7070 - val_loss: 0.5613 - val_accuracy: 0.7195\n",
      "Epoch 4/6\n",
      "250/250 [==============================] - 48s 192ms/step - loss: 0.5280 - accuracy: 0.7372 - val_loss: 0.5027 - val_accuracy: 0.7615\n",
      "Epoch 5/6\n",
      "250/250 [==============================] - 53s 213ms/step - loss: 0.5071 - accuracy: 0.7416 - val_loss: 0.4871 - val_accuracy: 0.7685\n",
      "Epoch 6/6\n",
      "250/250 [==============================] - 48s 190ms/step - loss: 0.4894 - accuracy: 0.7614 - val_loss: 0.4768 - val_accuracy: 0.7860\n"
     ]
    },
    {
     "data": {
      "text/plain": [
       "<tensorflow.python.keras.callbacks.History at 0x24360b53310>"
      ]
     },
     "execution_count": 13,
     "metadata": {},
     "output_type": "execute_result"
    }
   ],
   "source": [
    "cnn.fit(x = training_set, validation_data = test_set, epochs = 6)"
   ]
  },
  {
   "cell_type": "markdown",
   "id": "5884525d",
   "metadata": {},
   "source": [
    "tahmin ederek modelin ne kadar doğru çalıştıgına bakılıyor."
   ]
  },
  {
   "cell_type": "code",
   "execution_count": 16,
   "id": "1d8a2429",
   "metadata": {},
   "outputs": [],
   "source": [
    "import numpy as np\n",
    "from tensorflow.keras.preprocessing import image\n",
    "test_image = image.load_img('C:/Users/tepec/Desktop/proje/dataset/single_prediction/cat_or_dog_2.jpg', target_size = (64, 64))\n",
    "test_image = image.img_to_array(test_image)\n",
    "test_image = np.expand_dims(test_image, axis = 0)\n",
    "result = cnn.predict(test_image)\n",
    "training_set.class_indices\n",
    "if result[0][0] == 1:\n",
    "  prediction = 'köpek'\n",
    "else:\n",
    "  prediction = 'kedi'"
   ]
  },
  {
   "cell_type": "code",
   "execution_count": 17,
   "id": "76616da8",
   "metadata": {},
   "outputs": [
    {
     "name": "stdout",
     "output_type": "stream",
     "text": [
      "kedi\n"
     ]
    }
   ],
   "source": [
    "print(prediction)"
   ]
  },
  {
   "cell_type": "code",
   "execution_count": null,
   "id": "64f1f326",
   "metadata": {},
   "outputs": [],
   "source": [
    "cnn.fit(x = test_set, validation_data = training_set , epochs = 6)"
   ]
  }
 ],
 "metadata": {
  "kernelspec": {
   "display_name": "Python 3 (ipykernel)",
   "language": "python",
   "name": "python3"
  },
  "language_info": {
   "codemirror_mode": {
    "name": "ipython",
    "version": 3
   },
   "file_extension": ".py",
   "mimetype": "text/x-python",
   "name": "python",
   "nbconvert_exporter": "python",
   "pygments_lexer": "ipython3",
   "version": "3.8.12"
  }
 },
 "nbformat": 4,
 "nbformat_minor": 5
}
